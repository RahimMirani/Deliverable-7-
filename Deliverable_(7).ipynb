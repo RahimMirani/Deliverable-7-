{
  "nbformat": 4,
  "nbformat_minor": 0,
  "metadata": {
    "colab": {
      "provenance": []
    },
    "kernelspec": {
      "name": "python3",
      "display_name": "Python 3"
    },
    "language_info": {
      "name": "python"
    }
  },
  "cells": [
    {
      "cell_type": "code",
      "execution_count": 2,
      "metadata": {
        "id": "GYmIHsUJWy8f"
      },
      "outputs": [],
      "source": [
        "import pandas as pd"
      ]
    },
    {
      "cell_type": "code",
      "source": [
        "n = int(input(\"Enter a non-negative integer grater than 1:\"))\n",
        "\n",
        "if n > 1:\n",
        "  even = []\n",
        "  odd = []\n",
        "  fibo = [0, 1]\n",
        "\n",
        "  for i in range(n):\n",
        "    even.append(2*i)\n",
        "    odd.append(2*i+1)\n",
        "    if i>1:\n",
        "      fibo.append(fibo[i-2] + fibo[i-1])\n",
        "    \n",
        "  results_dict = {'Even': even, 'Odd': odd, 'Fibonacci': fibo}\n",
        "  result = pd.DataFrame(data = results_dict)\n",
        "  print(result)\n",
        "\n",
        "else:\n",
        "  print(\"Please enter a non-negative integer greater than 1\")\n",
        "\n",
        "\n",
        "\n",
        "\n"
      ],
      "metadata": {
        "colab": {
          "base_uri": "https://localhost:8080/"
        },
        "id": "xcrHUgh-XIn3",
        "outputId": "9fe0b813-bc6f-4545-b7f7-764bc75ac3d5"
      },
      "execution_count": 25,
      "outputs": [
        {
          "output_type": "stream",
          "name": "stdout",
          "text": [
            "Enter a non-negative integer grater than 1:4\n",
            "   Even  Odd  Fibonacci\n",
            "0     0    1          0\n",
            "1     2    3          1\n",
            "2     4    5          1\n",
            "3     6    7          2\n"
          ]
        }
      ]
    }
  ]
}